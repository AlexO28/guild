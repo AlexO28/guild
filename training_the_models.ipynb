{
 "cells": [
  {
   "cell_type": "markdown",
   "id": "567163db",
   "metadata": {},
   "source": [
    "# Загрузка данных."
   ]
  },
  {
   "cell_type": "code",
   "execution_count": 1,
   "id": "cc895670",
   "metadata": {},
   "outputs": [],
   "source": [
    "import os\n",
    "import pandas as pd"
   ]
  },
  {
   "cell_type": "code",
   "execution_count": 2,
   "id": "fd18eb9a",
   "metadata": {},
   "outputs": [],
   "source": [
    "main_dir = os.getcwd()"
   ]
  },
  {
   "cell_type": "code",
   "execution_count": 3,
   "id": "f2fb36c6",
   "metadata": {},
   "outputs": [],
   "source": [
    "tab_test = pd.read_csv(main_dir + '/data/NN_Data_1_Test.csv', sep = ',')\n",
    "tab_train = pd.read_csv(main_dir + '/data/NN_Data_1_Tr_Val.csv', sep = ',')\n",
    "tab_test = tab_test[['X', 'Y']].drop_duplicates()\n",
    "tab_train = tab_train[['X', 'Y']].drop_duplicates()"
   ]
  },
  {
   "cell_type": "code",
   "execution_count": 4,
   "id": "a49e0ed7",
   "metadata": {},
   "outputs": [],
   "source": [
    "tab_old = pd.read_csv(main_dir + '/data/NN_Data.csv')"
   ]
  },
  {
   "cell_type": "code",
   "execution_count": 5,
   "id": "830f60e6",
   "metadata": {},
   "outputs": [
    {
     "data": {
      "text/plain": [
       "(1991548, 551547, 2543093)"
      ]
     },
     "execution_count": 5,
     "metadata": {},
     "output_type": "execute_result"
    }
   ],
   "source": [
    "len(tab_train), len(tab_test), len(tab_old)"
   ]
  },
  {
   "cell_type": "code",
   "execution_count": 6,
   "id": "22de424a",
   "metadata": {},
   "outputs": [],
   "source": [
    "tab_train = pd.merge(tab_train, tab_old, 'inner', left_on = ['X', 'Y'], right_on = ['X', 'Y'])\n",
    "tab_test = pd.merge(tab_test, tab_old, 'inner', left_on = ['X', 'Y'], right_on = ['X', 'Y'])"
   ]
  },
  {
   "cell_type": "code",
   "execution_count": 7,
   "id": "60a23820",
   "metadata": {},
   "outputs": [
    {
     "data": {
      "text/plain": [
       "(1991547, 551546)"
      ]
     },
     "execution_count": 7,
     "metadata": {},
     "output_type": "execute_result"
    }
   ],
   "source": [
    "len(tab_train), len(tab_test)"
   ]
  },
  {
   "cell_type": "code",
   "execution_count": 8,
   "id": "8b4f27f4",
   "metadata": {},
   "outputs": [],
   "source": [
    "y_train = tab_train[['X', 'Y', 'Dep_labels', 'F', 'Intr', 'MF']]\n",
    "y_test = tab_test[['X', 'Y', 'Dep_labels', 'F', 'Intr', 'MF']]"
   ]
  },
  {
   "cell_type": "code",
   "execution_count": 9,
   "id": "a87fe5d7",
   "metadata": {},
   "outputs": [],
   "source": [
    "X_train = tab_train.copy()\n",
    "X_test = tab_test.copy()\n",
    "X_train.drop(['Dep_labels', 'F', 'Intr', 'MF', 'Line'], axis = 1, inplace = True)\n",
    "X_test.drop(['Dep_labels', 'F', 'Intr', 'MF', 'Line'], axis = 1, inplace = True)"
   ]
  },
  {
   "cell_type": "code",
   "execution_count": 10,
   "id": "55b41f19",
   "metadata": {},
   "outputs": [],
   "source": [
    "import random"
   ]
  },
  {
   "cell_type": "code",
   "execution_count": 11,
   "id": "127cf7d1",
   "metadata": {},
   "outputs": [],
   "source": [
    "random.seed(239)"
   ]
  },
  {
   "cell_type": "code",
   "execution_count": 12,
   "id": "8bda6911",
   "metadata": {},
   "outputs": [],
   "source": [
    "X_train_train = X_train.copy()\n",
    "X_train_val = X_test.copy()\n",
    "y_train_train = y_train.copy()\n",
    "y_train_val = y_test.copy()"
   ]
  },
  {
   "cell_type": "code",
   "execution_count": 13,
   "id": "21739060",
   "metadata": {},
   "outputs": [
    {
     "data": {
      "text/plain": [
       "(1991547, 551546, 1991547, 551546)"
      ]
     },
     "execution_count": 13,
     "metadata": {},
     "output_type": "execute_result"
    }
   ],
   "source": [
    "len(X_train_train), len(X_train_val), len(y_train_train), len(y_train_val)"
   ]
  },
  {
   "cell_type": "code",
   "execution_count": 14,
   "id": "e68ed8d6",
   "metadata": {},
   "outputs": [],
   "source": [
    "for col in y_train_train.columns:\n",
    "    y_train_train.loc[pd.isna(y_train_train[col]), col] = y_train_train[col].median()\n",
    "    y_train_val.loc[pd.isna(y_train_val[col]), col] = y_train_val[col].median()"
   ]
  },
  {
   "cell_type": "markdown",
   "id": "cb6faacf",
   "metadata": {},
   "source": [
    "# Модель для Intr, номер 1"
   ]
  },
  {
   "cell_type": "code",
   "execution_count": 15,
   "id": "7b801838",
   "metadata": {},
   "outputs": [
    {
     "data": {
      "text/plain": [
       "Index(['X', 'Y', 'ARK_0', 'ARK_5000', 'Class_GM_16', 'Dyke_density', 'f4_AuAs',\n",
       "       'f7_AuAgAs_WCuMo', 'Fault_dist', 'Faults_100', 'Faults_250', 'Gr',\n",
       "       'Gr_4_5', 'Gr_loc', 'Intr_dist', 'K', 'MED', 'MFault_dist', 'Mg',\n",
       "       'Mg_loc', 'Mg_tilt', 'Th', 'U'],\n",
       "      dtype='object')"
      ]
     },
     "execution_count": 15,
     "metadata": {},
     "output_type": "execute_result"
    }
   ],
   "source": [
    "X_train.columns"
   ]
  },
  {
   "cell_type": "code",
   "execution_count": 16,
   "id": "d82e42f4",
   "metadata": {},
   "outputs": [],
   "source": [
    "X_train = X_train_train.copy()\n",
    "y_train = y_train_train.copy()\n",
    "X_train.drop(['Intr_dist', 'X', 'Y'], axis = 1, inplace = True)\n",
    "y_train = y_train[['Intr']]"
   ]
  },
  {
   "cell_type": "code",
   "execution_count": 17,
   "id": "9df28a9b",
   "metadata": {},
   "outputs": [],
   "source": [
    "X_val = X_train_val.copy()\n",
    "y_val = y_train_val.copy()\n",
    "X_val.drop(['Intr_dist', 'X', 'Y'], axis = 1, inplace = True)\n",
    "y_val = y_val[['Intr']]"
   ]
  },
  {
   "cell_type": "code",
   "execution_count": 18,
   "id": "86b485cc",
   "metadata": {},
   "outputs": [
    {
     "name": "stderr",
     "output_type": "stream",
     "text": [
      "C:\\playground\\Anaconda\\lib\\site-packages\\xgboost\\compat.py:36: FutureWarning: pandas.Int64Index is deprecated and will be removed from pandas in a future version. Use pandas.Index with the appropriate dtype instead.\n",
      "  from pandas import MultiIndex, Int64Index\n"
     ]
    }
   ],
   "source": [
    "from catboost import CatBoostClassifier"
   ]
  },
  {
   "cell_type": "code",
   "execution_count": 19,
   "id": "33e2dea1",
   "metadata": {},
   "outputs": [],
   "source": [
    "def calculate_iou(res_frame, col_target, col_pred):\n",
    "    return len(res_frame[(res_frame[col_target] == 1) & (res_frame[col_pred] == 1)])/len(res_frame[(res_frame[col_target] == 1) | (res_frame[col_pred] == 1)])"
   ]
  },
  {
   "cell_type": "code",
   "execution_count": 20,
   "id": "852bb5c0",
   "metadata": {},
   "outputs": [],
   "source": [
    "iterations = [5, 10, 20, 30, 40, 50, 60, 70, 80, 90, 100, 150, 200, 250]"
   ]
  },
  {
   "cell_type": "code",
   "execution_count": 21,
   "id": "735b3019",
   "metadata": {},
   "outputs": [],
   "source": [
    "#ious = []\n",
    "#for iteration in iterations:\n",
    "#    print(iteration)\n",
    "#    model = CatBoostClassifier(iterations=iteration, verbose = False)\n",
    "#    model.fit(X_train, y_train)\n",
    "#    res_frame = pd.DataFrame(y_val.values, columns=['target'])\n",
    "#    res_frame['pred'] = model.predict(X_val)\n",
    "#    iou = calculate_iou(res_frame, 'target', 'pred')\n",
    "#    print(iou)\n",
    "#    ious.append(iou)"
   ]
  },
  {
   "cell_type": "markdown",
   "id": "3449cfaa",
   "metadata": {},
   "source": [
    "# we stop at 200 with 61.17"
   ]
  },
  {
   "cell_type": "code",
   "execution_count": 22,
   "id": "211945d3",
   "metadata": {},
   "outputs": [
    {
     "data": {
      "text/plain": [
       "<catboost.core.CatBoostClassifier at 0x1c6e0c16940>"
      ]
     },
     "execution_count": 22,
     "metadata": {},
     "output_type": "execute_result"
    }
   ],
   "source": [
    "model = CatBoostClassifier(iterations=200, verbose=False)\n",
    "model.fit(X_train, y_train)"
   ]
  },
  {
   "cell_type": "code",
   "execution_count": 23,
   "id": "07bb7237",
   "metadata": {},
   "outputs": [
    {
     "data": {
      "text/plain": [
       "0.6117160162702713"
      ]
     },
     "execution_count": 23,
     "metadata": {},
     "output_type": "execute_result"
    }
   ],
   "source": [
    "res_frame = pd.DataFrame(y_val.values, columns=['target'])\n",
    "res_frame['pred'] = model.predict(X_val)\n",
    "calculate_iou(res_frame, 'target', 'pred')"
   ]
  },
  {
   "cell_type": "code",
   "execution_count": 26,
   "id": "a6fcd6a2",
   "metadata": {},
   "outputs": [],
   "source": [
    "res_importances = pd.DataFrame({'importances': model.feature_importances_, 'names': model.feature_names_})"
   ]
  },
  {
   "cell_type": "code",
   "execution_count": 30,
   "id": "c7796956",
   "metadata": {},
   "outputs": [
    {
     "data": {
      "text/html": [
       "<div>\n",
       "<style scoped>\n",
       "    .dataframe tbody tr th:only-of-type {\n",
       "        vertical-align: middle;\n",
       "    }\n",
       "\n",
       "    .dataframe tbody tr th {\n",
       "        vertical-align: top;\n",
       "    }\n",
       "\n",
       "    .dataframe thead th {\n",
       "        text-align: right;\n",
       "    }\n",
       "</style>\n",
       "<table border=\"1\" class=\"dataframe\">\n",
       "  <thead>\n",
       "    <tr style=\"text-align: right;\">\n",
       "      <th></th>\n",
       "      <th>importances</th>\n",
       "      <th>names</th>\n",
       "    </tr>\n",
       "  </thead>\n",
       "  <tbody>\n",
       "    <tr>\n",
       "      <th>9</th>\n",
       "      <td>18.474198</td>\n",
       "      <td>Gr</td>\n",
       "    </tr>\n",
       "    <tr>\n",
       "      <th>14</th>\n",
       "      <td>16.617901</td>\n",
       "      <td>MFault_dist</td>\n",
       "    </tr>\n",
       "    <tr>\n",
       "      <th>3</th>\n",
       "      <td>11.136898</td>\n",
       "      <td>Dyke_density</td>\n",
       "    </tr>\n",
       "    <tr>\n",
       "      <th>10</th>\n",
       "      <td>10.690835</td>\n",
       "      <td>Gr_4_5</td>\n",
       "    </tr>\n",
       "    <tr>\n",
       "      <th>5</th>\n",
       "      <td>10.076821</td>\n",
       "      <td>f7_AuAgAs_WCuMo</td>\n",
       "    </tr>\n",
       "  </tbody>\n",
       "</table>\n",
       "</div>"
      ],
      "text/plain": [
       "    importances            names\n",
       "9     18.474198               Gr\n",
       "14    16.617901      MFault_dist\n",
       "3     11.136898     Dyke_density\n",
       "10    10.690835           Gr_4_5\n",
       "5     10.076821  f7_AuAgAs_WCuMo"
      ]
     },
     "execution_count": 30,
     "metadata": {},
     "output_type": "execute_result"
    }
   ],
   "source": [
    "res_importances.sort_values(['importances'], ascending = False).head(5)"
   ]
  },
  {
   "cell_type": "code",
   "execution_count": 33,
   "id": "f3b6d5d0",
   "metadata": {},
   "outputs": [],
   "source": [
    "#model.save_model('catboost_for_intr_no_coords_1')"
   ]
  },
  {
   "cell_type": "markdown",
   "id": "47035b2a",
   "metadata": {},
   "source": [
    "# Модель для Intr, номер 2."
   ]
  },
  {
   "cell_type": "code",
   "execution_count": 35,
   "id": "339b54cc",
   "metadata": {},
   "outputs": [],
   "source": [
    "X_train = X_train_train.copy()\n",
    "y_train = y_train_train.copy()\n",
    "X_train = X_train[['Gr_4_5', 'K', 'MED']]\n",
    "y_train = y_train[['Intr']]"
   ]
  },
  {
   "cell_type": "code",
   "execution_count": 36,
   "id": "89e7a65f",
   "metadata": {},
   "outputs": [],
   "source": [
    "X_val = X_train_val.copy()\n",
    "y_val = y_train_val.copy()\n",
    "X_val = X_val[['Gr_4_5', 'K', 'MED']]\n",
    "y_val = y_val[['Intr']]"
   ]
  },
  {
   "cell_type": "code",
   "execution_count": 38,
   "id": "1e6121eb",
   "metadata": {},
   "outputs": [
    {
     "name": "stdout",
     "output_type": "stream",
     "text": [
      "5\n",
      "0.46536970672127553\n",
      "10\n",
      "0.45525029188558086\n",
      "20\n",
      "0.4574933469432394\n",
      "30\n",
      "0.454196808317278\n",
      "40\n",
      "0.4491600674120653\n",
      "50\n",
      "0.45090823392915413\n",
      "60\n",
      "0.45403387262594014\n",
      "70\n",
      "0.4539600656553814\n",
      "80\n",
      "0.4538763404886341\n",
      "90\n",
      "0.4532825089424432\n",
      "100\n",
      "0.4522807334477464\n",
      "150\n",
      "0.45257418437674324\n",
      "200\n",
      "0.45163557718302244\n",
      "250\n",
      "0.4484449073408993\n"
     ]
    }
   ],
   "source": [
    "ious = []\n",
    "for iteration in iterations:\n",
    "    print(iteration)\n",
    "    model = CatBoostClassifier(iterations=iteration, verbose=False)\n",
    "    model.fit(X_train, y_train)\n",
    "    res_frame = pd.DataFrame(y_val.values, columns=['target'])\n",
    "    res_frame['pred'] = model.predict(X_val)\n",
    "    iou = calculate_iou(res_frame, 'target', 'pred')\n",
    "    print(iou)\n",
    "    ious.append(iou)"
   ]
  },
  {
   "cell_type": "markdown",
   "id": "d4203c41",
   "metadata": {},
   "source": [
    "# we stop at 5 with iou 46.54"
   ]
  },
  {
   "cell_type": "code",
   "execution_count": 39,
   "id": "0d7749e9",
   "metadata": {},
   "outputs": [
    {
     "data": {
      "text/plain": [
       "<catboost.core.CatBoostClassifier at 0x1e0c2ddfa60>"
      ]
     },
     "execution_count": 39,
     "metadata": {},
     "output_type": "execute_result"
    }
   ],
   "source": [
    "model = CatBoostClassifier(iterations=5, verbose=False)\n",
    "model.fit(X_train, y_train)"
   ]
  },
  {
   "cell_type": "code",
   "execution_count": 40,
   "id": "4c6834c2",
   "metadata": {},
   "outputs": [
    {
     "data": {
      "text/plain": [
       "0.46536970672127553"
      ]
     },
     "execution_count": 40,
     "metadata": {},
     "output_type": "execute_result"
    }
   ],
   "source": [
    "res_frame = pd.DataFrame(y_val.values, columns=['target'])\n",
    "res_frame['pred'] = model.predict(X_val)\n",
    "calculate_iou(res_frame, 'target', 'pred')"
   ]
  },
  {
   "cell_type": "code",
   "execution_count": 41,
   "id": "85097ceb",
   "metadata": {},
   "outputs": [],
   "source": [
    "model.save_model('catboost_for_intr_no_coords_2')"
   ]
  },
  {
   "cell_type": "code",
   "execution_count": 44,
   "id": "bbf38e08",
   "metadata": {},
   "outputs": [],
   "source": [
    "tab2 = pd.read_csv(main_dir + '/data/NN_Data_2.csv')"
   ]
  },
  {
   "cell_type": "markdown",
   "id": "93629a2b",
   "metadata": {},
   "source": [
    "# Модель для Intr, номер 4"
   ]
  },
  {
   "cell_type": "code",
   "execution_count": 44,
   "id": "93954795",
   "metadata": {},
   "outputs": [],
   "source": [
    "X_train = X_train_train.copy()\n",
    "y_train = y_train_train.copy()\n",
    "X_train.drop(['X', 'Y', 'Intr_dist'], axis = 1, inplace = True)\n",
    "cols = [col for col in X_train.columns if col in tab2.columns]\n",
    "X_train = X_train[cols]\n",
    "y_train = y_train[['Intr']]"
   ]
  },
  {
   "cell_type": "code",
   "execution_count": 45,
   "id": "68817494",
   "metadata": {},
   "outputs": [],
   "source": [
    "X_val = X_train_val.copy()\n",
    "y_val = y_train_val.copy()\n",
    "X_val.drop(['X', 'Y', 'Intr_dist'], axis = 1, inplace = True)\n",
    "cols = [col for col in X_val.columns if col in tab2.columns]\n",
    "X_val = X_val[cols]\n",
    "y_val = y_val[['Intr']]"
   ]
  },
  {
   "cell_type": "code",
   "execution_count": 46,
   "id": "4396590d",
   "metadata": {},
   "outputs": [
    {
     "name": "stdout",
     "output_type": "stream",
     "text": [
      "5\n",
      "0.40386029712193766\n",
      "10\n",
      "0.487277629703093\n",
      "20\n",
      "0.5109789057877145\n",
      "30\n",
      "0.4948326464343699\n",
      "40\n",
      "0.49318711574863505\n",
      "50\n",
      "0.49322667840080464\n",
      "60\n",
      "0.49753571260932833\n",
      "70\n",
      "0.502216860674615\n",
      "80\n",
      "0.5082454245043213\n",
      "90\n",
      "0.5022386883178307\n",
      "100\n",
      "0.5105152885206131\n",
      "150\n",
      "0.5249979898689394\n",
      "200\n",
      "0.5740889978976874\n",
      "250\n",
      "0.5855892494032358\n"
     ]
    }
   ],
   "source": [
    "ious = []\n",
    "for iteration in iterations:\n",
    "    print(iteration)\n",
    "    model = CatBoostClassifier(iterations=iteration, verbose=False)\n",
    "    model.fit(X_train, y_train)\n",
    "    res_frame = pd.DataFrame(y_val.values, columns=['target'])\n",
    "    res_frame['pred'] = model.predict(X_val)\n",
    "    iou = calculate_iou(res_frame, 'target', 'pred')\n",
    "    print(iou)\n",
    "    ious.append(iou)"
   ]
  },
  {
   "cell_type": "code",
   "execution_count": 47,
   "id": "29908b83",
   "metadata": {},
   "outputs": [],
   "source": [
    "iterations_2 = [300, 350, 400, 450, 500, 550, 600]"
   ]
  },
  {
   "cell_type": "code",
   "execution_count": 48,
   "id": "a7337ee4",
   "metadata": {},
   "outputs": [
    {
     "name": "stdout",
     "output_type": "stream",
     "text": [
      "300\n",
      "0.5916247131446463\n",
      "350\n",
      "0.5945336764575384\n",
      "400\n",
      "0.5891735655152727\n",
      "450\n",
      "0.5934182399540139\n",
      "500\n",
      "0.5658112582781457\n",
      "550\n",
      "0.5722223208421352\n",
      "600\n",
      "0.5840171834554166\n"
     ]
    }
   ],
   "source": [
    "ious = []\n",
    "for iteration in iterations_2:\n",
    "    print(iteration)\n",
    "    model = CatBoostClassifier(iterations=iteration, verbose=False)\n",
    "    model.fit(X_train, y_train)\n",
    "    res_frame = pd.DataFrame(y_val.values, columns=['target'])\n",
    "    res_frame['pred'] = model.predict(X_val)\n",
    "    iou = calculate_iou(res_frame, 'target', 'pred')\n",
    "    print(iou)\n",
    "    ious.append(iou)"
   ]
  },
  {
   "cell_type": "markdown",
   "id": "5bbfeb31",
   "metadata": {},
   "source": [
    "# We stop at 350 with 59.45%"
   ]
  },
  {
   "cell_type": "code",
   "execution_count": 49,
   "id": "5f593b5d",
   "metadata": {},
   "outputs": [
    {
     "data": {
      "text/plain": [
       "<catboost.core.CatBoostClassifier at 0x1e0b6a28670>"
      ]
     },
     "execution_count": 49,
     "metadata": {},
     "output_type": "execute_result"
    }
   ],
   "source": [
    "model = CatBoostClassifier(iterations=350, verbose=False)\n",
    "model.fit(X_train, y_train)"
   ]
  },
  {
   "cell_type": "code",
   "execution_count": 50,
   "id": "20901071",
   "metadata": {},
   "outputs": [
    {
     "data": {
      "text/plain": [
       "0.5945336764575384"
      ]
     },
     "execution_count": 50,
     "metadata": {},
     "output_type": "execute_result"
    }
   ],
   "source": [
    "res_frame = pd.DataFrame(y_val.values, columns=['target'])\n",
    "res_frame['pred'] = model.predict(X_val)\n",
    "calculate_iou(res_frame, 'target', 'pred')"
   ]
  },
  {
   "cell_type": "code",
   "execution_count": 51,
   "id": "7bf739dd",
   "metadata": {},
   "outputs": [],
   "source": [
    "model.save_model('catboost_for_intr_no_coords_4')"
   ]
  },
  {
   "cell_type": "markdown",
   "id": "78e1d73f",
   "metadata": {},
   "source": [
    "# Модель для Intr номер 5"
   ]
  },
  {
   "cell_type": "code",
   "execution_count": 52,
   "id": "1d3c18f6",
   "metadata": {},
   "outputs": [],
   "source": [
    "X_train = X_train_train.copy()\n",
    "y_train = y_train_train.copy()\n",
    "X_train = X_train[['Gr_4_5', 'Class_GM_16', 'Gr_loc']]\n",
    "y_train = y_train[['Intr']]"
   ]
  },
  {
   "cell_type": "code",
   "execution_count": 53,
   "id": "d868954a",
   "metadata": {},
   "outputs": [],
   "source": [
    "X_val = X_train_val.copy()\n",
    "y_val = y_train_val.copy()\n",
    "X_val = X_val[['Gr_4_5', 'Class_GM_16', 'Gr_loc']]\n",
    "y_val = y_val[['Intr']]"
   ]
  },
  {
   "cell_type": "code",
   "execution_count": 54,
   "id": "595b9fbd",
   "metadata": {},
   "outputs": [
    {
     "name": "stdout",
     "output_type": "stream",
     "text": [
      "5\n",
      "0.2812970336641963\n",
      "10\n",
      "0.3055514046622833\n",
      "20\n",
      "0.3087997321578037\n",
      "30\n",
      "0.3040590679726922\n",
      "40\n",
      "0.3050721542261761\n",
      "50\n",
      "0.3052093973442288\n",
      "60\n",
      "0.30638100537933594\n",
      "70\n",
      "0.307638168617573\n",
      "80\n",
      "0.3010170240990493\n",
      "90\n",
      "0.30020582181711264\n",
      "100\n",
      "0.30053079911715885\n",
      "150\n",
      "0.2955381533418321\n",
      "200\n",
      "0.29192048148823635\n",
      "250\n",
      "0.29027267101095783\n"
     ]
    }
   ],
   "source": [
    "ious = []\n",
    "for iteration in iterations:\n",
    "    print(iteration)\n",
    "    model = CatBoostClassifier(iterations=iteration, verbose=False)\n",
    "    model.fit(X_train, y_train)\n",
    "    res_frame = pd.DataFrame(y_val.values, columns=['target'])\n",
    "    res_frame['pred'] = model.predict(X_val)\n",
    "    iou = calculate_iou(res_frame, 'target', 'pred')\n",
    "    print(iou)\n",
    "    ious.append(iou)"
   ]
  },
  {
   "cell_type": "markdown",
   "id": "9243aab4",
   "metadata": {},
   "source": [
    "# we stop at 20 with 30.88%"
   ]
  },
  {
   "cell_type": "code",
   "execution_count": 55,
   "id": "3a980185",
   "metadata": {},
   "outputs": [
    {
     "data": {
      "text/plain": [
       "<catboost.core.CatBoostClassifier at 0x1e0c32c52e0>"
      ]
     },
     "execution_count": 55,
     "metadata": {},
     "output_type": "execute_result"
    }
   ],
   "source": [
    "model = CatBoostClassifier(iterations=20, verbose=False)\n",
    "model.fit(X_train, y_train)"
   ]
  },
  {
   "cell_type": "code",
   "execution_count": 56,
   "id": "1603ba7b",
   "metadata": {},
   "outputs": [
    {
     "data": {
      "text/plain": [
       "0.3087997321578037"
      ]
     },
     "execution_count": 56,
     "metadata": {},
     "output_type": "execute_result"
    }
   ],
   "source": [
    "res_frame = pd.DataFrame(y_val.values, columns=['target'])\n",
    "res_frame['pred'] = model.predict(X_val)\n",
    "calculate_iou(res_frame, 'target', 'pred')"
   ]
  },
  {
   "cell_type": "code",
   "execution_count": 57,
   "id": "f0976735",
   "metadata": {},
   "outputs": [],
   "source": [
    "model.save_model('catboost_for_intr_no_coords_5')"
   ]
  },
  {
   "cell_type": "markdown",
   "id": "e9c8c615",
   "metadata": {},
   "source": [
    "# Модель для Dep_labels, номер 1."
   ]
  },
  {
   "cell_type": "code",
   "execution_count": 58,
   "id": "6bb79bba",
   "metadata": {},
   "outputs": [],
   "source": [
    "X_train = X_train_train.copy()\n",
    "y_train = y_train_train.copy()\n",
    "X_train.drop(['X', 'Y'], axis = 1, inplace = True)\n",
    "y_train = y_train[['Dep_labels']]"
   ]
  },
  {
   "cell_type": "code",
   "execution_count": 59,
   "id": "6a4b087c",
   "metadata": {},
   "outputs": [],
   "source": [
    "X_val = X_train_val.copy()\n",
    "y_val = y_train_val.copy()\n",
    "X_val.drop(['X', 'Y'], axis = 1, inplace = True)\n",
    "y_val = y_val[['Dep_labels']]"
   ]
  },
  {
   "cell_type": "code",
   "execution_count": 61,
   "id": "40acd261",
   "metadata": {},
   "outputs": [
    {
     "name": "stdout",
     "output_type": "stream",
     "text": [
      "5\n",
      "0.029072681704260653\n",
      "10\n",
      "0.032160059281215264\n",
      "20\n",
      "0.033950617283950615\n",
      "30\n",
      "0.03884776075643187\n",
      "40\n",
      "0.0385930993456276\n",
      "50\n",
      "0.03750558118767674\n",
      "60\n",
      "0.0385470719051149\n",
      "70\n",
      "0.0374757860229474\n",
      "80\n",
      "0.03702879192638765\n",
      "90\n",
      "0.03715766099185788\n",
      "100\n",
      "0.03715766099185788\n",
      "150\n",
      "0.038936232735821336\n",
      "200\n",
      "0.03939102800975538\n",
      "250\n",
      "0.03939102800975538\n"
     ]
    }
   ],
   "source": [
    "ious = []\n",
    "for iteration in iterations:\n",
    "    print(iteration)\n",
    "    model = CatBoostClassifier(iterations=iteration, verbose=False)\n",
    "    model.fit(X_train, y_train)\n",
    "    res_frame = pd.DataFrame(y_val.values, columns=['target'])\n",
    "    res_frame['pred'] = model.predict(X_val)\n",
    "    iou = calculate_iou(res_frame, 'target', 'pred')\n",
    "    print(iou)\n",
    "    ious.append(iou)"
   ]
  },
  {
   "cell_type": "markdown",
   "id": "832c9aed",
   "metadata": {},
   "source": [
    "# We stop at 20 with 3.4%"
   ]
  },
  {
   "cell_type": "code",
   "execution_count": 62,
   "id": "ac5ac68f",
   "metadata": {},
   "outputs": [
    {
     "data": {
      "text/plain": [
       "<catboost.core.CatBoostClassifier at 0x1e0b86e82b0>"
      ]
     },
     "execution_count": 62,
     "metadata": {},
     "output_type": "execute_result"
    }
   ],
   "source": [
    "model = CatBoostClassifier(iterations=20, verbose=False)\n",
    "model.fit(X_train, y_train)"
   ]
  },
  {
   "cell_type": "code",
   "execution_count": 63,
   "id": "90c545f7",
   "metadata": {},
   "outputs": [
    {
     "data": {
      "text/plain": [
       "0.033950617283950615"
      ]
     },
     "execution_count": 63,
     "metadata": {},
     "output_type": "execute_result"
    }
   ],
   "source": [
    "res_frame = pd.DataFrame(y_val.values, columns=['target'])\n",
    "res_frame['pred'] = model.predict(X_val)\n",
    "calculate_iou(res_frame, 'target', 'pred')"
   ]
  },
  {
   "cell_type": "code",
   "execution_count": 64,
   "id": "fdc186a5",
   "metadata": {},
   "outputs": [],
   "source": [
    "model.save_model('catboost_for_dep_labels_no_coords_1')"
   ]
  },
  {
   "cell_type": "markdown",
   "id": "74ad5bc6",
   "metadata": {},
   "source": [
    "# Модель для Dep_labels номер 2"
   ]
  },
  {
   "cell_type": "code",
   "execution_count": 65,
   "id": "7a29c260",
   "metadata": {},
   "outputs": [],
   "source": [
    "X_train = X_train_train.copy()\n",
    "y_train = y_train_train.copy()\n",
    "X_train = X_train[['f4_AuAs', 'f7_AuAgAs_WCuMo', 'Gr_4_5']]\n",
    "y_train = y_train[['Dep_labels']]"
   ]
  },
  {
   "cell_type": "code",
   "execution_count": 66,
   "id": "0ce00bca",
   "metadata": {},
   "outputs": [],
   "source": [
    "X_val = X_train_val.copy()\n",
    "y_val = y_train_val.copy()\n",
    "X_val = X_val[['f4_AuAs', 'f7_AuAgAs_WCuMo', 'Gr_4_5']]\n",
    "y_val = y_val[['Dep_labels']]"
   ]
  },
  {
   "cell_type": "code",
   "execution_count": 67,
   "id": "75699361",
   "metadata": {},
   "outputs": [
    {
     "name": "stdout",
     "output_type": "stream",
     "text": [
      "5\n",
      "0.0\n",
      "10\n",
      "0.004117736769864267\n",
      "20\n",
      "0.010771864745327436\n",
      "30\n",
      "0.016466370094947214\n",
      "40\n",
      "0.01599365540942436\n",
      "50\n",
      "0.015343739621388243\n",
      "60\n",
      "0.0183007399577167\n",
      "70\n",
      "0.017978400051736402\n",
      "80\n",
      "0.01840885684860968\n",
      "90\n",
      "0.018060286650813034\n",
      "100\n",
      "0.0215422434985121\n",
      "150\n",
      "0.02179255043973099\n",
      "200\n",
      "0.02767467604349808\n",
      "250\n",
      "0.02551917192891088\n"
     ]
    }
   ],
   "source": [
    "ious = []\n",
    "for iteration in iterations:\n",
    "    print(iteration)\n",
    "    model = CatBoostClassifier(iterations=iteration, verbose=False)\n",
    "    model.fit(X_train, y_train)\n",
    "    res_frame = pd.DataFrame(y_val.values, columns=['target'])\n",
    "    res_frame['pred'] = model.predict(X_val)\n",
    "    iou = calculate_iou(res_frame, 'target', 'pred')\n",
    "    print(iou)\n",
    "    ious.append(iou)"
   ]
  },
  {
   "cell_type": "markdown",
   "id": "7bfb9692",
   "metadata": {},
   "source": [
    "# We stop at 200 with 2.77%"
   ]
  },
  {
   "cell_type": "code",
   "execution_count": 68,
   "id": "d1a052f4",
   "metadata": {},
   "outputs": [
    {
     "data": {
      "text/plain": [
       "<catboost.core.CatBoostClassifier at 0x1e0b86e5640>"
      ]
     },
     "execution_count": 68,
     "metadata": {},
     "output_type": "execute_result"
    }
   ],
   "source": [
    "model = CatBoostClassifier(iterations=200, verbose=False)\n",
    "model.fit(X_train, y_train)"
   ]
  },
  {
   "cell_type": "code",
   "execution_count": 69,
   "id": "e6aa0bfc",
   "metadata": {},
   "outputs": [
    {
     "data": {
      "text/plain": [
       "0.02767467604349808"
      ]
     },
     "execution_count": 69,
     "metadata": {},
     "output_type": "execute_result"
    }
   ],
   "source": [
    "res_frame = pd.DataFrame(y_val.values, columns=['target'])\n",
    "res_frame['pred'] = model.predict(X_val)\n",
    "calculate_iou(res_frame, 'target', 'pred')"
   ]
  },
  {
   "cell_type": "code",
   "execution_count": 70,
   "id": "1285fffa",
   "metadata": {},
   "outputs": [],
   "source": [
    "model.save_model('catboost_for_dep_labels_no_coords_2')"
   ]
  },
  {
   "cell_type": "markdown",
   "id": "c3d00c5f",
   "metadata": {},
   "source": [
    "# Модель для F номер 1"
   ]
  },
  {
   "cell_type": "code",
   "execution_count": 31,
   "id": "53587f8d",
   "metadata": {},
   "outputs": [],
   "source": [
    "X_train = X_train_train.copy()\n",
    "y_train = y_train_train.copy()\n",
    "X_train.drop(['X', 'Y', 'Fault_dist', 'MFault_dist'], axis = 1, inplace = True)\n",
    "y_train = y_train[['F']]"
   ]
  },
  {
   "cell_type": "code",
   "execution_count": 32,
   "id": "bc320695",
   "metadata": {},
   "outputs": [],
   "source": [
    "X_val = X_train_val.copy()\n",
    "y_val = y_train_val.copy()\n",
    "X_val.drop(['X', 'Y', 'Fault_dist', 'MFault_dist'], axis = 1, inplace = True)\n",
    "y_val = y_val[['F']]"
   ]
  },
  {
   "cell_type": "code",
   "execution_count": 33,
   "id": "e38c4cad",
   "metadata": {},
   "outputs": [],
   "source": [
    "#ious = []\n",
    "#for iteration in iterations:\n",
    "#    print(iteration)\n",
    "#    model = CatBoostClassifier(iterations=iteration, verbose=False)\n",
    "#    model.fit(X_train, y_train)\n",
    "#    res_frame = pd.DataFrame(y_val.values, columns=['target'])\n",
    "#    res_frame['pred'] = model.predict(X_val)\n",
    "#    iou = calculate_iou(res_frame, 'target', 'pred')\n",
    "#    print(iou)\n",
    "#    ious.append(iou)"
   ]
  },
  {
   "cell_type": "code",
   "execution_count": 34,
   "id": "111b8dfb",
   "metadata": {},
   "outputs": [],
   "source": [
    "iterations_2 = [300, 350, 400, 450, 500, 550, 600]"
   ]
  },
  {
   "cell_type": "code",
   "execution_count": 35,
   "id": "117e750f",
   "metadata": {},
   "outputs": [],
   "source": [
    "#ious_2 = []\n",
    "#for iteration in iterations_2:\n",
    "#    print(iteration)\n",
    "#    model = CatBoostClassifier(iterations=iteration, verbose=False)\n",
    "#    model.fit(X_train, y_train)\n",
    "#    res_frame = pd.DataFrame(y_val.values, columns=['target'])\n",
    "#    res_frame['pred'] = model.predict(X_val)\n",
    "#    iou = calculate_iou(res_frame, 'target', 'pred')\n",
    "#    print(iou)\n",
    "#    ious_2.append(iou)"
   ]
  },
  {
   "cell_type": "markdown",
   "id": "237a0685",
   "metadata": {},
   "source": [
    "# We stop at 450 with 52.52%"
   ]
  },
  {
   "cell_type": "code",
   "execution_count": 36,
   "id": "40874460",
   "metadata": {},
   "outputs": [
    {
     "data": {
      "text/plain": [
       "<catboost.core.CatBoostClassifier at 0x1c6fffa41f0>"
      ]
     },
     "execution_count": 36,
     "metadata": {},
     "output_type": "execute_result"
    }
   ],
   "source": [
    "model = CatBoostClassifier(iterations=450, verbose=False)\n",
    "model.fit(X_train, y_train)"
   ]
  },
  {
   "cell_type": "code",
   "execution_count": 37,
   "id": "862cdbcb",
   "metadata": {},
   "outputs": [
    {
     "data": {
      "text/plain": [
       "0.5251568167811544"
      ]
     },
     "execution_count": 37,
     "metadata": {},
     "output_type": "execute_result"
    }
   ],
   "source": [
    "res_frame = pd.DataFrame(y_val.values, columns=['target'])\n",
    "res_frame['pred'] = model.predict(X_val)\n",
    "calculate_iou(res_frame, 'target', 'pred')"
   ]
  },
  {
   "cell_type": "code",
   "execution_count": 38,
   "id": "60ff6e61",
   "metadata": {},
   "outputs": [],
   "source": [
    "res_importances = pd.DataFrame({'importances': model.feature_importances_, 'names': model.feature_names_})"
   ]
  },
  {
   "cell_type": "code",
   "execution_count": 39,
   "id": "5c369d81",
   "metadata": {},
   "outputs": [
    {
     "data": {
      "text/html": [
       "<div>\n",
       "<style scoped>\n",
       "    .dataframe tbody tr th:only-of-type {\n",
       "        vertical-align: middle;\n",
       "    }\n",
       "\n",
       "    .dataframe tbody tr th {\n",
       "        vertical-align: top;\n",
       "    }\n",
       "\n",
       "    .dataframe thead th {\n",
       "        text-align: right;\n",
       "    }\n",
       "</style>\n",
       "<table border=\"1\" class=\"dataframe\">\n",
       "  <thead>\n",
       "    <tr style=\"text-align: right;\">\n",
       "      <th></th>\n",
       "      <th>importances</th>\n",
       "      <th>names</th>\n",
       "    </tr>\n",
       "  </thead>\n",
       "  <tbody>\n",
       "    <tr>\n",
       "      <th>7</th>\n",
       "      <td>24.762575</td>\n",
       "      <td>Faults_250</td>\n",
       "    </tr>\n",
       "    <tr>\n",
       "      <th>8</th>\n",
       "      <td>12.580639</td>\n",
       "      <td>Gr</td>\n",
       "    </tr>\n",
       "    <tr>\n",
       "      <th>9</th>\n",
       "      <td>9.244273</td>\n",
       "      <td>Gr_4_5</td>\n",
       "    </tr>\n",
       "    <tr>\n",
       "      <th>4</th>\n",
       "      <td>9.225721</td>\n",
       "      <td>f4_AuAs</td>\n",
       "    </tr>\n",
       "    <tr>\n",
       "      <th>3</th>\n",
       "      <td>8.524579</td>\n",
       "      <td>Dyke_density</td>\n",
       "    </tr>\n",
       "  </tbody>\n",
       "</table>\n",
       "</div>"
      ],
      "text/plain": [
       "   importances         names\n",
       "7    24.762575    Faults_250\n",
       "8    12.580639            Gr\n",
       "9     9.244273        Gr_4_5\n",
       "4     9.225721       f4_AuAs\n",
       "3     8.524579  Dyke_density"
      ]
     },
     "execution_count": 39,
     "metadata": {},
     "output_type": "execute_result"
    }
   ],
   "source": [
    "res_importances.sort_values(['importances'], ascending = False).head(5)"
   ]
  },
  {
   "cell_type": "code",
   "execution_count": 77,
   "id": "b53efd58",
   "metadata": {},
   "outputs": [],
   "source": [
    "#model.save_model('catboost_for_F_no_coords_1')"
   ]
  },
  {
   "cell_type": "markdown",
   "id": "936e2ec2",
   "metadata": {},
   "source": [
    "# Модель для F номер 2"
   ]
  },
  {
   "cell_type": "code",
   "execution_count": 78,
   "id": "4998089e",
   "metadata": {},
   "outputs": [],
   "source": [
    "X_train = X_train_train.copy()\n",
    "y_train = y_train_train.copy()\n",
    "X_train = X_train[['Gr', 'Class_GM_16', 'Intr_dist']]\n",
    "y_train = y_train[['F']]"
   ]
  },
  {
   "cell_type": "code",
   "execution_count": 79,
   "id": "8ad11de2",
   "metadata": {},
   "outputs": [],
   "source": [
    "X_val = X_train_val.copy()\n",
    "y_val = y_train_val.copy()\n",
    "X_val = X_val[['Gr', 'Class_GM_16', 'Intr_dist']]\n",
    "y_val = y_val[['F']]"
   ]
  },
  {
   "cell_type": "code",
   "execution_count": 80,
   "id": "314d32a6",
   "metadata": {},
   "outputs": [
    {
     "data": {
      "text/plain": [
       "[5, 10, 20, 30, 40, 50, 60, 70, 80, 90, 100, 150, 200, 250]"
      ]
     },
     "execution_count": 80,
     "metadata": {},
     "output_type": "execute_result"
    }
   ],
   "source": [
    "iterations"
   ]
  },
  {
   "cell_type": "code",
   "execution_count": 82,
   "id": "3df2087d",
   "metadata": {},
   "outputs": [
    {
     "name": "stdout",
     "output_type": "stream",
     "text": [
      "5\n",
      "0.44585847126058975\n",
      "10\n",
      "0.416544078514641\n",
      "20\n",
      "0.42767080481911884\n",
      "30\n",
      "0.4273576519733218\n",
      "40\n",
      "0.42399373912104815\n",
      "50\n",
      "0.4249208300430652\n",
      "60\n",
      "0.4282853364281666\n",
      "70\n",
      "0.42250857619011545\n",
      "80\n",
      "0.42470087203407014\n",
      "90\n",
      "0.426034471663306\n",
      "100\n",
      "0.42713309483515777\n",
      "150\n",
      "0.4252392328568651\n",
      "200\n",
      "0.41013234055564796\n",
      "250\n",
      "0.4125448650379602\n"
     ]
    }
   ],
   "source": [
    "ious = []\n",
    "for iteration in iterations:\n",
    "    print(iteration)\n",
    "    model = CatBoostClassifier(iterations=iteration, verbose=False)\n",
    "    model.fit(X_train, y_train)\n",
    "    res_frame = pd.DataFrame(y_val.values, columns=['target'])\n",
    "    res_frame['pred'] = model.predict(X_val)\n",
    "    iou = calculate_iou(res_frame, 'target', 'pred')\n",
    "    print(iou)\n",
    "    ious.append(iou)"
   ]
  },
  {
   "cell_type": "markdown",
   "id": "bd49465d",
   "metadata": {},
   "source": [
    "# We stop at 5 with 44.59%"
   ]
  },
  {
   "cell_type": "code",
   "execution_count": 83,
   "id": "aa81c5c8",
   "metadata": {},
   "outputs": [
    {
     "data": {
      "text/plain": [
       "<catboost.core.CatBoostClassifier at 0x1e0b6a286a0>"
      ]
     },
     "execution_count": 83,
     "metadata": {},
     "output_type": "execute_result"
    }
   ],
   "source": [
    "model = CatBoostClassifier(iterations=5, verbose=False)\n",
    "model.fit(X_train, y_train)"
   ]
  },
  {
   "cell_type": "code",
   "execution_count": 84,
   "id": "23082b37",
   "metadata": {},
   "outputs": [
    {
     "data": {
      "text/plain": [
       "0.44585847126058975"
      ]
     },
     "execution_count": 84,
     "metadata": {},
     "output_type": "execute_result"
    }
   ],
   "source": [
    "res_frame = pd.DataFrame(y_val.values, columns=['target'])\n",
    "res_frame['pred'] = model.predict(X_val)\n",
    "calculate_iou(res_frame, 'target', 'pred')"
   ]
  },
  {
   "cell_type": "code",
   "execution_count": 85,
   "id": "09985a96",
   "metadata": {},
   "outputs": [],
   "source": [
    "model.save_model('catboost_for_F_no_coords_2')"
   ]
  },
  {
   "cell_type": "markdown",
   "id": "f11da28f",
   "metadata": {},
   "source": [
    "# Модель для F номер 4."
   ]
  },
  {
   "cell_type": "code",
   "execution_count": 45,
   "id": "4b51e4f2",
   "metadata": {},
   "outputs": [],
   "source": [
    "X_train = X_train_train.copy()\n",
    "y_train = y_train_train.copy()\n",
    "X_train.drop(['X', 'Y', 'Fault_dist', 'MFault_dist'], axis = 1, inplace = True)\n",
    "cols = [col for col in X_train.columns if col in tab2.columns]\n",
    "X_train = X_train[cols]\n",
    "y_train = y_train[['F']]"
   ]
  },
  {
   "cell_type": "code",
   "execution_count": 46,
   "id": "c8389e38",
   "metadata": {},
   "outputs": [],
   "source": [
    "X_val = X_train_val.copy()\n",
    "y_val = y_train_val.copy()\n",
    "X_val.drop(['X', 'Y', 'Fault_dist', 'MFault_dist'], axis = 1, inplace = True)\n",
    "cols = [col for col in X_val.columns if col in tab2.columns]\n",
    "X_val = X_val[cols]\n",
    "y_val = y_val[['F']]"
   ]
  },
  {
   "cell_type": "code",
   "execution_count": 47,
   "id": "ff174601",
   "metadata": {},
   "outputs": [],
   "source": [
    "#ious = []\n",
    "#for iteration in iterations:\n",
    "#    print(iteration)\n",
    "#    model = CatBoostClassifier(iterations=iteration, verbose=False)\n",
    "#    model.fit(X_train, y_train)\n",
    "#    res_frame = pd.DataFrame(y_val.values, columns=['target'])\n",
    "#    res_frame['pred'] = model.predict(X_val)\n",
    "#    iou = calculate_iou(res_frame, 'target', 'pred')\n",
    "#    print(iou)\n",
    "#    ious.append(iou)"
   ]
  },
  {
   "cell_type": "code",
   "execution_count": 48,
   "id": "6e1bfa19",
   "metadata": {},
   "outputs": [],
   "source": [
    "#ious_2 = []\n",
    "#for iteration in iterations_2:\n",
    "#    print(iteration)\n",
    "#    model = CatBoostClassifier(iterations=iteration, verbose=False)\n",
    "#    model.fit(X_train, y_train)\n",
    "#    res_frame = pd.DataFrame(y_val.values, columns=['target'])\n",
    "#    res_frame['pred'] = model.predict(X_val)\n",
    "#    iou = calculate_iou(res_frame, 'target', 'pred')\n",
    "#    print(iou)\n",
    "#    ious_2.append(iou)"
   ]
  },
  {
   "cell_type": "markdown",
   "id": "eb4c71c2",
   "metadata": {},
   "source": [
    "# We stop at 450 with 52.88%"
   ]
  },
  {
   "cell_type": "code",
   "execution_count": 49,
   "id": "8cde4203",
   "metadata": {},
   "outputs": [
    {
     "data": {
      "text/plain": [
       "<catboost.core.CatBoostClassifier at 0x1c70487cc10>"
      ]
     },
     "execution_count": 49,
     "metadata": {},
     "output_type": "execute_result"
    }
   ],
   "source": [
    "model = CatBoostClassifier(iterations=450, verbose=False)\n",
    "model.fit(X_train, y_train)"
   ]
  },
  {
   "cell_type": "code",
   "execution_count": 50,
   "id": "9deb2ca1",
   "metadata": {},
   "outputs": [
    {
     "data": {
      "text/plain": [
       "0.5287583456433593"
      ]
     },
     "execution_count": 50,
     "metadata": {},
     "output_type": "execute_result"
    }
   ],
   "source": [
    "res_frame = pd.DataFrame(y_val.values, columns=['target'])\n",
    "res_frame['pred'] = model.predict(X_val)\n",
    "calculate_iou(res_frame, 'target', 'pred')"
   ]
  },
  {
   "cell_type": "code",
   "execution_count": 51,
   "id": "b4b1aa48",
   "metadata": {},
   "outputs": [],
   "source": [
    "res_importances = pd.DataFrame({'importances': model.feature_importances_, 'names': model.feature_names_})"
   ]
  },
  {
   "cell_type": "code",
   "execution_count": 52,
   "id": "aec8ea51",
   "metadata": {},
   "outputs": [
    {
     "data": {
      "text/html": [
       "<div>\n",
       "<style scoped>\n",
       "    .dataframe tbody tr th:only-of-type {\n",
       "        vertical-align: middle;\n",
       "    }\n",
       "\n",
       "    .dataframe tbody tr th {\n",
       "        vertical-align: top;\n",
       "    }\n",
       "\n",
       "    .dataframe thead th {\n",
       "        text-align: right;\n",
       "    }\n",
       "</style>\n",
       "<table border=\"1\" class=\"dataframe\">\n",
       "  <thead>\n",
       "    <tr style=\"text-align: right;\">\n",
       "      <th></th>\n",
       "      <th>importances</th>\n",
       "      <th>names</th>\n",
       "    </tr>\n",
       "  </thead>\n",
       "  <tbody>\n",
       "    <tr>\n",
       "      <th>4</th>\n",
       "      <td>23.880668</td>\n",
       "      <td>Faults_250</td>\n",
       "    </tr>\n",
       "    <tr>\n",
       "      <th>5</th>\n",
       "      <td>13.540246</td>\n",
       "      <td>Gr</td>\n",
       "    </tr>\n",
       "    <tr>\n",
       "      <th>6</th>\n",
       "      <td>9.960549</td>\n",
       "      <td>Gr_4_5</td>\n",
       "    </tr>\n",
       "    <tr>\n",
       "      <th>8</th>\n",
       "      <td>9.293124</td>\n",
       "      <td>Intr_dist</td>\n",
       "    </tr>\n",
       "    <tr>\n",
       "      <th>2</th>\n",
       "      <td>9.198119</td>\n",
       "      <td>f4_AuAs</td>\n",
       "    </tr>\n",
       "  </tbody>\n",
       "</table>\n",
       "</div>"
      ],
      "text/plain": [
       "   importances       names\n",
       "4    23.880668  Faults_250\n",
       "5    13.540246          Gr\n",
       "6     9.960549      Gr_4_5\n",
       "8     9.293124   Intr_dist\n",
       "2     9.198119     f4_AuAs"
      ]
     },
     "execution_count": 52,
     "metadata": {},
     "output_type": "execute_result"
    }
   ],
   "source": [
    "res_importances.sort_values(['importances'], ascending = False).head(5)"
   ]
  },
  {
   "cell_type": "code",
   "execution_count": 94,
   "id": "70491ee8",
   "metadata": {},
   "outputs": [],
   "source": [
    "#model.save_model('catboost_for_F_no_coords_4')"
   ]
  },
  {
   "cell_type": "markdown",
   "id": "54d97a48",
   "metadata": {},
   "source": [
    "# Модель для F номер 5."
   ]
  },
  {
   "cell_type": "code",
   "execution_count": 95,
   "id": "5392d6e9",
   "metadata": {},
   "outputs": [],
   "source": [
    "X_train = X_train_train.copy()\n",
    "y_train = y_train_train.copy()\n",
    "X_train = X_train[['Gr', 'Class_GM_16', 'Mg']]\n",
    "y_train = y_train[['F']]"
   ]
  },
  {
   "cell_type": "code",
   "execution_count": 96,
   "id": "9cfe6682",
   "metadata": {},
   "outputs": [],
   "source": [
    "X_val = X_train_val.copy()\n",
    "y_val = y_train_val.copy()\n",
    "X_val = X_val[['Gr', 'Class_GM_16', 'Mg']]\n",
    "y_val = y_val[['F']]"
   ]
  },
  {
   "cell_type": "code",
   "execution_count": 97,
   "id": "e7ba0526",
   "metadata": {},
   "outputs": [
    {
     "name": "stdout",
     "output_type": "stream",
     "text": [
      "5\n",
      "0.39192336758518787\n",
      "10\n",
      "0.37274469149121475\n",
      "20\n",
      "0.3857802278085877\n",
      "30\n",
      "0.37434230154724696\n",
      "40\n",
      "0.3785136505685332\n",
      "50\n",
      "0.38388006101737465\n",
      "60\n",
      "0.3869834879355839\n",
      "70\n",
      "0.39059607552758235\n",
      "80\n",
      "0.40223005833953396\n",
      "90\n",
      "0.39961529213753305\n",
      "100\n",
      "0.4005532481017587\n",
      "150\n",
      "0.41252861075090247\n",
      "200\n",
      "0.4244836662522002\n",
      "250\n",
      "0.42194961924020136\n"
     ]
    }
   ],
   "source": [
    "ious = []\n",
    "for iteration in iterations:\n",
    "    print(iteration)\n",
    "    model = CatBoostClassifier(iterations=iteration, verbose=False)\n",
    "    model.fit(X_train, y_train)\n",
    "    res_frame = pd.DataFrame(y_val.values, columns=['target'])\n",
    "    res_frame['pred'] = model.predict(X_val)\n",
    "    iou = calculate_iou(res_frame, 'target', 'pred')\n",
    "    print(iou)\n",
    "    ious.append(iou)"
   ]
  },
  {
   "cell_type": "markdown",
   "id": "1a8af6da",
   "metadata": {},
   "source": [
    "# We stop at 200 iterations with 42.45%"
   ]
  },
  {
   "cell_type": "code",
   "execution_count": 98,
   "id": "06db9757",
   "metadata": {},
   "outputs": [
    {
     "data": {
      "text/plain": [
       "<catboost.core.CatBoostClassifier at 0x1e0b8b7a640>"
      ]
     },
     "execution_count": 98,
     "metadata": {},
     "output_type": "execute_result"
    }
   ],
   "source": [
    "model = CatBoostClassifier(iterations=200, verbose=False)\n",
    "model.fit(X_train, y_train)"
   ]
  },
  {
   "cell_type": "code",
   "execution_count": 99,
   "id": "28b0c054",
   "metadata": {},
   "outputs": [
    {
     "data": {
      "text/plain": [
       "0.4244836662522002"
      ]
     },
     "execution_count": 99,
     "metadata": {},
     "output_type": "execute_result"
    }
   ],
   "source": [
    "res_frame = pd.DataFrame(y_val.values, columns=['target'])\n",
    "res_frame['pred'] = model.predict(X_val)\n",
    "calculate_iou(res_frame, 'target', 'pred')"
   ]
  },
  {
   "cell_type": "code",
   "execution_count": 100,
   "id": "7e1ba4ba",
   "metadata": {},
   "outputs": [],
   "source": [
    "model.save_model('catboost_for_F_no_coords_5')"
   ]
  },
  {
   "cell_type": "markdown",
   "id": "63a9d2e4",
   "metadata": {},
   "source": [
    "# Модель для MF номер 1"
   ]
  },
  {
   "cell_type": "code",
   "execution_count": 101,
   "id": "b4a904b3",
   "metadata": {},
   "outputs": [],
   "source": [
    "X_train = X_train_train.copy()\n",
    "y_train = y_train_train.copy()\n",
    "X_train.drop(['X', 'Y', 'Fault_dist', 'MFault_dist', 'Gr', \"Gr_4_5\"], axis = 1, inplace = True)\n",
    "y_train = y_train[['MF']]"
   ]
  },
  {
   "cell_type": "code",
   "execution_count": 102,
   "id": "90288baf",
   "metadata": {},
   "outputs": [],
   "source": [
    "X_val = X_train_val.copy()\n",
    "y_val = y_train_val.copy()\n",
    "X_val.drop(['X', 'Y', 'Fault_dist', 'MFault_dist', 'Gr', \"Gr_4_5\"], axis = 1, inplace = True)\n",
    "y_val = y_val[['MF']]"
   ]
  },
  {
   "cell_type": "code",
   "execution_count": 103,
   "id": "e3717588",
   "metadata": {},
   "outputs": [
    {
     "name": "stdout",
     "output_type": "stream",
     "text": [
      "5\n",
      "0.11241278846891052\n",
      "10\n",
      "0.12005275045095572\n",
      "20\n",
      "0.1381417554168197\n",
      "30\n",
      "0.1455496776804556\n",
      "40\n",
      "0.15853260946602973\n",
      "50\n",
      "0.17069311252677097\n",
      "60\n",
      "0.17606526429341962\n",
      "70\n",
      "0.1990867824480122\n",
      "80\n",
      "0.20043547110055424\n",
      "90\n",
      "0.1973308165733959\n",
      "100\n",
      "0.2146364849631367\n",
      "150\n",
      "0.22534129037215378\n",
      "200\n",
      "0.2232298613087211\n",
      "250\n",
      "0.23448327063947733\n"
     ]
    }
   ],
   "source": [
    "ious = []\n",
    "for iteration in iterations:\n",
    "    print(iteration)\n",
    "    model = CatBoostClassifier(iterations=iteration, verbose=False)\n",
    "    model.fit(X_train, y_train)\n",
    "    res_frame = pd.DataFrame(y_val.values, columns=['target'])\n",
    "    res_frame['pred'] = model.predict(X_val)\n",
    "    iou = calculate_iou(res_frame, 'target', 'pred')\n",
    "    print(iou)\n",
    "    ious.append(iou)"
   ]
  },
  {
   "cell_type": "markdown",
   "id": "1969fa52",
   "metadata": {},
   "source": [
    "# We stop at 150 with 22.53%"
   ]
  },
  {
   "cell_type": "code",
   "execution_count": 104,
   "id": "9b1acebd",
   "metadata": {},
   "outputs": [
    {
     "data": {
      "text/plain": [
       "<catboost.core.CatBoostClassifier at 0x1e0b8ba8880>"
      ]
     },
     "execution_count": 104,
     "metadata": {},
     "output_type": "execute_result"
    }
   ],
   "source": [
    "model = CatBoostClassifier(iterations=150, verbose=False)\n",
    "model.fit(X_train, y_train)"
   ]
  },
  {
   "cell_type": "code",
   "execution_count": 105,
   "id": "4e8265a6",
   "metadata": {},
   "outputs": [
    {
     "data": {
      "text/plain": [
       "0.22534129037215378"
      ]
     },
     "execution_count": 105,
     "metadata": {},
     "output_type": "execute_result"
    }
   ],
   "source": [
    "res_frame = pd.DataFrame(y_val.values, columns=['target'])\n",
    "res_frame['pred'] = model.predict(X_val)\n",
    "calculate_iou(res_frame, 'target', 'pred')"
   ]
  },
  {
   "cell_type": "code",
   "execution_count": 106,
   "id": "659a854c",
   "metadata": {},
   "outputs": [],
   "source": [
    "model.save_model('catboost_for_MF_no_coords_1')"
   ]
  },
  {
   "cell_type": "markdown",
   "id": "8f433701",
   "metadata": {},
   "source": [
    "# Модель для MF номер 2."
   ]
  },
  {
   "cell_type": "code",
   "execution_count": 116,
   "id": "04793c4f",
   "metadata": {},
   "outputs": [],
   "source": [
    "X_train = X_train_train.copy()\n",
    "y_train = y_train_train.copy()\n",
    "X_train.drop(['X', 'Y', 'Fault_dist', 'MFault_dist'], axis = 1, inplace = True)\n",
    "y_train = y_train[['MF']]"
   ]
  },
  {
   "cell_type": "code",
   "execution_count": 117,
   "id": "fe9ce024",
   "metadata": {},
   "outputs": [],
   "source": [
    "X_val = X_train_val.copy()\n",
    "y_val = y_train_val.copy()\n",
    "X_val.drop(['X', 'Y', 'Fault_dist', 'MFault_dist'], axis = 1, inplace = True)\n",
    "y_val = y_val[['MF']]"
   ]
  },
  {
   "cell_type": "code",
   "execution_count": 119,
   "id": "8a1f3b20",
   "metadata": {},
   "outputs": [
    {
     "name": "stdout",
     "output_type": "stream",
     "text": [
      "5\n",
      "0.11337254056717061\n",
      "10\n",
      "0.1331741762903945\n",
      "20\n",
      "0.16954283984256735\n",
      "30\n",
      "0.19347010536481485\n",
      "40\n",
      "0.2261730540565261\n",
      "50\n",
      "0.22580681599963853\n",
      "60\n",
      "0.2492987783676024\n",
      "70\n",
      "0.24713649659903902\n",
      "80\n",
      "0.2491513837159964\n",
      "90\n",
      "0.24755362655639473\n",
      "100\n",
      "0.2514933288673031\n",
      "150\n",
      "0.28280791378190046\n",
      "200\n",
      "0.30460624071322434\n",
      "250\n",
      "0.3054033432753\n"
     ]
    }
   ],
   "source": [
    "ious = []\n",
    "for iteration in iterations:\n",
    "    print(iteration)\n",
    "    model = CatBoostClassifier(iterations=iteration, verbose=False)\n",
    "    model.fit(X_train, y_train)\n",
    "    res_frame = pd.DataFrame(y_val.values, columns=['target'])\n",
    "    res_frame['pred'] = model.predict(X_val)\n",
    "    iou = calculate_iou(res_frame, 'target', 'pred')\n",
    "    print(iou)\n",
    "    ious.append(iou)"
   ]
  },
  {
   "cell_type": "code",
   "execution_count": 120,
   "id": "efcaa098",
   "metadata": {},
   "outputs": [
    {
     "name": "stdout",
     "output_type": "stream",
     "text": [
      "300\n",
      "0.301225735791019\n",
      "350\n",
      "0.3025836758661186\n",
      "400\n",
      "0.30561382008437227\n",
      "450\n",
      "0.30916869548774434\n",
      "500\n",
      "0.327864165765497\n",
      "550\n",
      "0.3232417098699012\n",
      "600\n",
      "0.3331400298592175\n"
     ]
    }
   ],
   "source": [
    "ious = []\n",
    "for iteration in iterations_2:\n",
    "    print(iteration)\n",
    "    model = CatBoostClassifier(iterations=iteration, verbose=False)\n",
    "    model.fit(X_train, y_train)\n",
    "    res_frame = pd.DataFrame(y_val.values, columns=['target'])\n",
    "    res_frame['pred'] = model.predict(X_val)\n",
    "    iou = calculate_iou(res_frame, 'target', 'pred')\n",
    "    print(iou)\n",
    "    ious.append(iou)"
   ]
  },
  {
   "cell_type": "code",
   "execution_count": 121,
   "id": "2e83aa18",
   "metadata": {},
   "outputs": [],
   "source": [
    "iterations_3 = [700, 800, 900, 1000]"
   ]
  },
  {
   "cell_type": "code",
   "execution_count": 122,
   "id": "269ebffc",
   "metadata": {},
   "outputs": [
    {
     "name": "stdout",
     "output_type": "stream",
     "text": [
      "700\n",
      "0.3313990344760326\n",
      "800\n",
      "0.3345770824219655\n",
      "900\n",
      "0.3194480668678664\n",
      "1000\n",
      "0.3266058581706064\n"
     ]
    }
   ],
   "source": [
    "ious = []\n",
    "for iteration in iterations_3:\n",
    "    print(iteration)\n",
    "    model = CatBoostClassifier(iterations=iteration, verbose=False)\n",
    "    model.fit(X_train, y_train)\n",
    "    res_frame = pd.DataFrame(y_val.values, columns=['target'])\n",
    "    res_frame['pred'] = model.predict(X_val)\n",
    "    iou = calculate_iou(res_frame, 'target', 'pred')\n",
    "    print(iou)\n",
    "    ious.append(iou)"
   ]
  },
  {
   "cell_type": "markdown",
   "id": "cbaa843f",
   "metadata": {},
   "source": [
    "# We stop at 800 with 33.46%"
   ]
  },
  {
   "cell_type": "code",
   "execution_count": 123,
   "id": "a86dccc3",
   "metadata": {},
   "outputs": [
    {
     "data": {
      "text/plain": [
       "<catboost.core.CatBoostClassifier at 0x1e0b8ba86d0>"
      ]
     },
     "execution_count": 123,
     "metadata": {},
     "output_type": "execute_result"
    }
   ],
   "source": [
    "model = CatBoostClassifier(iterations=800, verbose=False)\n",
    "model.fit(X_train, y_train)"
   ]
  },
  {
   "cell_type": "code",
   "execution_count": 124,
   "id": "554cf8b8",
   "metadata": {},
   "outputs": [
    {
     "data": {
      "text/plain": [
       "0.3345770824219655"
      ]
     },
     "execution_count": 124,
     "metadata": {},
     "output_type": "execute_result"
    }
   ],
   "source": [
    "res_frame = pd.DataFrame(y_val.values, columns=['target'])\n",
    "res_frame['pred'] = model.predict(X_val)\n",
    "calculate_iou(res_frame, 'target', 'pred')"
   ]
  },
  {
   "cell_type": "code",
   "execution_count": 125,
   "id": "dc121c28",
   "metadata": {},
   "outputs": [],
   "source": [
    "model.save_model('catboost_for_MF_no_coords_2')"
   ]
  },
  {
   "cell_type": "code",
   "execution_count": 118,
   "id": "da742992",
   "metadata": {},
   "outputs": [
    {
     "name": "stdout",
     "output_type": "stream",
     "text": [
      "ARK_0 0.07399458852562178\n",
      "ARK_5000 0.01389769507757192\n",
      "Class_GM_16 0.06527319010824902\n",
      "Dyke_density 0.13766651460898732\n",
      "f4_AuAs 0.028388023975957806\n",
      "f7_AuAgAs_WCuMo 0.0036767658672967334\n",
      "Faults_100 0.06022988195384815\n",
      "Faults_250 0.15612103988238002\n",
      "Gr -0.059062618774570246\n",
      "Gr_4_5 0.05788189363804702\n",
      "Gr_loc -0.027218412100837724\n",
      "Intr_dist -0.009264380110663498\n",
      "K -0.10237502128180441\n",
      "MED -0.09830391153358019\n",
      "Mg 0.06768552892123836\n",
      "Mg_loc 0.01027964657311839\n",
      "Mg_tilt 0.010225794132475857\n",
      "Th -0.0784916628290655\n",
      "U -0.06068433204506312\n"
     ]
    }
   ],
   "source": [
    "_ = [print(col, y_train['MF'].corr(X_train[col])) for col in X_train.columns]"
   ]
  },
  {
   "cell_type": "code",
   "execution_count": 111,
   "id": "ae437aed",
   "metadata": {},
   "outputs": [],
   "source": [
    "# Dyke_density 0.13766651460898732\n",
    "# K -0.10237502128180441\n",
    "# MED -0.09830391153358019"
   ]
  },
  {
   "cell_type": "code",
   "execution_count": 112,
   "id": "115f83b7",
   "metadata": {},
   "outputs": [],
   "source": [
    "X_train = X_train_train.copy()\n",
    "y_train = y_train_train.copy()\n",
    "X_train = X_train[['Dyke_density', 'K', 'MED']]\n",
    "y_train = y_train[['MF']]"
   ]
  },
  {
   "cell_type": "code",
   "execution_count": 113,
   "id": "dbd794c5",
   "metadata": {},
   "outputs": [],
   "source": [
    "X_val = X_train_val.copy()\n",
    "y_val = y_train_val.copy()\n",
    "X_val = X_val[['Dyke_density', 'K', 'MED']]\n",
    "y_val = y_val[['MF']]"
   ]
  },
  {
   "cell_type": "code",
   "execution_count": 114,
   "id": "db5ee48f",
   "metadata": {},
   "outputs": [
    {
     "name": "stdout",
     "output_type": "stream",
     "text": [
      "5\n",
      "0.0\n",
      "10\n",
      "0.0\n",
      "20\n",
      "0.0\n",
      "30\n",
      "0.0\n",
      "40\n",
      "0.0\n",
      "50\n",
      "0.0\n",
      "60\n",
      "0.0\n",
      "70\n",
      "1.597724839828085e-05\n",
      "80\n",
      "1.5978780179921066e-05\n",
      "90\n",
      "1.5976482617586914e-05\n",
      "100\n",
      "0.0\n",
      "150\n",
      "0.00011165164686179121\n",
      "200\n",
      "0.00012740882306099699\n",
      "250\n",
      "0.00012735811509989652\n"
     ]
    }
   ],
   "source": [
    "ious = []\n",
    "for iteration in iterations:\n",
    "    print(iteration)\n",
    "    model = CatBoostClassifier(iterations=iteration, verbose=False)\n",
    "    model.fit(X_train, y_train)\n",
    "    res_frame = pd.DataFrame(y_val.values, columns=['target'])\n",
    "    res_frame['pred'] = model.predict(X_val)\n",
    "    iou = calculate_iou(res_frame, 'target', 'pred')\n",
    "    print(iou)\n",
    "    ious.append(iou)"
   ]
  },
  {
   "cell_type": "markdown",
   "id": "f63c9bba",
   "metadata": {},
   "source": [
    "# Модель для MF номер 3."
   ]
  },
  {
   "cell_type": "code",
   "execution_count": 126,
   "id": "96969111",
   "metadata": {},
   "outputs": [],
   "source": [
    "X_train = X_train_train.copy()\n",
    "y_train = y_train_train.copy()\n",
    "X_train.drop(['X', 'Y', 'Fault_dist', 'MFault_dist', 'Gr', 'Gr_4_5'], axis = 1, inplace = True)\n",
    "cols = [col for col in X_train.columns if col in tab2.columns]\n",
    "X_train = X_train[cols]\n",
    "y_train = y_train[['MF']]"
   ]
  },
  {
   "cell_type": "code",
   "execution_count": 127,
   "id": "5d64cae0",
   "metadata": {},
   "outputs": [],
   "source": [
    "X_val = X_train_val.copy()\n",
    "y_val = y_train_val.copy()\n",
    "X_val.drop(['X', 'Y', 'Fault_dist', 'MFault_dist', 'Gr', 'Gr_4_5'], axis = 1, inplace = True)\n",
    "cols = [col for col in X_val.columns if col in tab2.columns]\n",
    "X_val = X_val[cols]\n",
    "y_val = y_val[['MF']]"
   ]
  },
  {
   "cell_type": "code",
   "execution_count": 128,
   "id": "46c19504",
   "metadata": {},
   "outputs": [
    {
     "name": "stdout",
     "output_type": "stream",
     "text": [
      "5\n",
      "0.1109736969111969\n",
      "10\n",
      "0.15073558860438416\n",
      "20\n",
      "0.1550530874357487\n",
      "30\n",
      "0.14607884351988717\n",
      "40\n",
      "0.16377617576381737\n",
      "50\n",
      "0.1738692783785622\n",
      "60\n",
      "0.17786432976306393\n",
      "70\n",
      "0.18346099098488444\n",
      "80\n",
      "0.1908931462493254\n",
      "90\n",
      "0.1985696368051664\n",
      "100\n",
      "0.20513303128487115\n",
      "150\n",
      "0.22357136350030585\n",
      "200\n",
      "0.22130266826984574\n",
      "250\n",
      "0.23000038004028428\n"
     ]
    }
   ],
   "source": [
    "ious = []\n",
    "for iteration in iterations:\n",
    "    print(iteration)\n",
    "    model = CatBoostClassifier(iterations=iteration, verbose=False)\n",
    "    model.fit(X_train, y_train)\n",
    "    res_frame = pd.DataFrame(y_val.values, columns=['target'])\n",
    "    res_frame['pred'] = model.predict(X_val)\n",
    "    iou = calculate_iou(res_frame, 'target', 'pred')\n",
    "    print(iou)\n",
    "    ious.append(iou)"
   ]
  },
  {
   "cell_type": "code",
   "execution_count": 129,
   "id": "cca86ef9",
   "metadata": {},
   "outputs": [
    {
     "name": "stdout",
     "output_type": "stream",
     "text": [
      "300\n",
      "0.23319783882044032\n",
      "350\n",
      "0.23541854410733953\n",
      "400\n",
      "0.23544472194681157\n",
      "450\n",
      "0.240425\n",
      "500\n",
      "0.25017872505422334\n",
      "550\n",
      "0.2547079108285154\n",
      "600\n",
      "0.25266061779481924\n"
     ]
    }
   ],
   "source": [
    "ious = []\n",
    "for iteration in iterations_2:\n",
    "    print(iteration)\n",
    "    model = CatBoostClassifier(iterations=iteration, verbose=False)\n",
    "    model.fit(X_train, y_train)\n",
    "    res_frame = pd.DataFrame(y_val.values, columns=['target'])\n",
    "    res_frame['pred'] = model.predict(X_val)\n",
    "    iou = calculate_iou(res_frame, 'target', 'pred')\n",
    "    print(iou)\n",
    "    ious.append(iou)"
   ]
  },
  {
   "cell_type": "markdown",
   "id": "095c0c73",
   "metadata": {},
   "source": [
    "# We stop at 550 with 25.47%"
   ]
  },
  {
   "cell_type": "code",
   "execution_count": 130,
   "id": "68f76c1a",
   "metadata": {},
   "outputs": [
    {
     "data": {
      "text/plain": [
       "<catboost.core.CatBoostClassifier at 0x1e0b86e8550>"
      ]
     },
     "execution_count": 130,
     "metadata": {},
     "output_type": "execute_result"
    }
   ],
   "source": [
    "model = CatBoostClassifier(iterations=550, verbose=False)\n",
    "model.fit(X_train, y_train)"
   ]
  },
  {
   "cell_type": "code",
   "execution_count": 131,
   "id": "4e9beb6c",
   "metadata": {},
   "outputs": [
    {
     "data": {
      "text/plain": [
       "0.2547079108285154"
      ]
     },
     "execution_count": 131,
     "metadata": {},
     "output_type": "execute_result"
    }
   ],
   "source": [
    "res_frame = pd.DataFrame(y_val.values, columns=['target'])\n",
    "res_frame['pred'] = model.predict(X_val)\n",
    "calculate_iou(res_frame, 'target', 'pred')"
   ]
  },
  {
   "cell_type": "code",
   "execution_count": 132,
   "id": "d499da03",
   "metadata": {},
   "outputs": [],
   "source": [
    "model.save_model('catboost_for_MF_no_coords_3')"
   ]
  },
  {
   "cell_type": "markdown",
   "id": "b1153402",
   "metadata": {},
   "source": [
    "# Модель для atk_outline"
   ]
  },
  {
   "cell_type": "code",
   "execution_count": 53,
   "id": "435fd81c",
   "metadata": {},
   "outputs": [],
   "source": [
    "tab1 = pd.read_csv(os.getcwd() + '/data/' + 'NN_Data_1.csv')"
   ]
  },
  {
   "cell_type": "code",
   "execution_count": 54,
   "id": "484d6cdb",
   "metadata": {},
   "outputs": [],
   "source": [
    "X_train_train = X_train_train[['X', 'Y']]\n",
    "X_train_val = X_train_val[['X', 'Y']]"
   ]
  },
  {
   "cell_type": "code",
   "execution_count": 55,
   "id": "b3285a26",
   "metadata": {},
   "outputs": [],
   "source": [
    "X_train_train = pd.merge(tab1, X_train_train, 'inner', left_on=['X', 'Y'], right_on=['X', 'Y'], suffixes=['', '_new'])\n",
    "X_train_val = pd.merge(tab1, X_train_train, 'inner', left_on=['X', 'Y'], right_on=['X', 'Y'], suffixes=['', '_new'])"
   ]
  },
  {
   "cell_type": "code",
   "execution_count": 56,
   "id": "4e0e5ccb",
   "metadata": {},
   "outputs": [],
   "source": [
    "y_train_train = X_train_train[['Atk_outline']]\n",
    "y_train_val = X_train_val[['Atk_outline']]"
   ]
  },
  {
   "cell_type": "code",
   "execution_count": 57,
   "id": "c49bcba0",
   "metadata": {},
   "outputs": [],
   "source": [
    "X_train_train.drop(['X', 'Y', 'Line', 'Intr', 'Dep_labels', 'F', 'Faults_100', 'Faults_250', 'MF', 'Atk_outline'], axis = 1, inplace = True)"
   ]
  },
  {
   "cell_type": "code",
   "execution_count": 58,
   "id": "fc942da3",
   "metadata": {},
   "outputs": [],
   "source": [
    "X_train_val.drop(['Line'], axis = 1, inplace = True)"
   ]
  },
  {
   "cell_type": "code",
   "execution_count": 59,
   "id": "97372dc9",
   "metadata": {},
   "outputs": [],
   "source": [
    "X_train_val = X_train_val[X_train_train.columns]"
   ]
  },
  {
   "cell_type": "code",
   "execution_count": 60,
   "id": "2da94591",
   "metadata": {},
   "outputs": [],
   "source": [
    "#ious = []\n",
    "#for iteration in iterations:\n",
    "#    print(iteration)\n",
    "#    model = CatBoostClassifier(iterations=iteration, verbose=False)\n",
    "#    model.fit(X_train_train, y_train_train)\n",
    "#    res_frame = pd.DataFrame(y_train_val.values, columns=['target'])\n",
    "#    res_frame['pred'] = model.predict(X_train_val)\n",
    "#    iou = calculate_iou(res_frame, 'target', 'pred')\n",
    "#    print(iou)\n",
    "#    ious.append(iou)"
   ]
  },
  {
   "cell_type": "code",
   "execution_count": 61,
   "id": "0afa9a49",
   "metadata": {},
   "outputs": [],
   "source": [
    "#ious_2 = []\n",
    "#for iteration in iterations_2:\n",
    "#    print(iteration)\n",
    "#    model = CatBoostClassifier(iterations=iteration, verbose=False)\n",
    "#    model.fit(X_train_train, y_train_train)\n",
    "#    res_frame = pd.DataFrame(y_train_val.values, columns=['target'])\n",
    "#    res_frame['pred'] = model.predict(X_train_val)\n",
    "#    iou = calculate_iou(res_frame, 'target', 'pred')\n",
    "#    print(iou)\n",
    "#    ious_2.append(iou)"
   ]
  },
  {
   "cell_type": "code",
   "execution_count": 62,
   "id": "601f3a3c",
   "metadata": {},
   "outputs": [],
   "source": [
    "#ious_3 = []\n",
    "#for iteration in iterations_3:\n",
    "#    print(iteration)\n",
    "#    model = CatBoostClassifier(iterations=iteration, verbose=False)\n",
    "#    model.fit(X_train_train, y_train_train)\n",
    "#    res_frame = pd.DataFrame(y_train_val.values, columns=['target'])\n",
    "#    res_frame['pred'] = model.predict(X_train_val)\n",
    "#    iou = calculate_iou(res_frame, 'target', 'pred')\n",
    "#    print(iou)\n",
    "#    ious_3.append(iou)"
   ]
  },
  {
   "cell_type": "markdown",
   "id": "5bf4f0ef",
   "metadata": {},
   "source": [
    "# We stop at 1000 with 98.14"
   ]
  },
  {
   "cell_type": "code",
   "execution_count": 63,
   "id": "01d3da6d",
   "metadata": {},
   "outputs": [
    {
     "data": {
      "text/plain": [
       "<catboost.core.CatBoostClassifier at 0x1c6fffa4dc0>"
      ]
     },
     "execution_count": 63,
     "metadata": {},
     "output_type": "execute_result"
    }
   ],
   "source": [
    "model = CatBoostClassifier(iterations=1000, verbose=False)\n",
    "model.fit(X_train_train, y_train_train)"
   ]
  },
  {
   "cell_type": "code",
   "execution_count": 64,
   "id": "99444a1f",
   "metadata": {},
   "outputs": [
    {
     "data": {
      "text/plain": [
       "0.9813593951989963"
      ]
     },
     "execution_count": 64,
     "metadata": {},
     "output_type": "execute_result"
    }
   ],
   "source": [
    "res_frame = pd.DataFrame(y_train_val.values, columns=['target'])\n",
    "res_frame['pred'] = model.predict(X_train_val)\n",
    "calculate_iou(res_frame, 'target', 'pred')"
   ]
  },
  {
   "cell_type": "code",
   "execution_count": 65,
   "id": "d2335500",
   "metadata": {},
   "outputs": [],
   "source": [
    "res_importances = pd.DataFrame({'importances': model.feature_importances_, 'names': model.feature_names_})"
   ]
  },
  {
   "cell_type": "code",
   "execution_count": 66,
   "id": "971f957e",
   "metadata": {},
   "outputs": [
    {
     "data": {
      "text/html": [
       "<div>\n",
       "<style scoped>\n",
       "    .dataframe tbody tr th:only-of-type {\n",
       "        vertical-align: middle;\n",
       "    }\n",
       "\n",
       "    .dataframe tbody tr th {\n",
       "        vertical-align: top;\n",
       "    }\n",
       "\n",
       "    .dataframe thead th {\n",
       "        text-align: right;\n",
       "    }\n",
       "</style>\n",
       "<table border=\"1\" class=\"dataframe\">\n",
       "  <thead>\n",
       "    <tr style=\"text-align: right;\">\n",
       "      <th></th>\n",
       "      <th>importances</th>\n",
       "      <th>names</th>\n",
       "    </tr>\n",
       "  </thead>\n",
       "  <tbody>\n",
       "    <tr>\n",
       "      <th>8</th>\n",
       "      <td>17.498131</td>\n",
       "      <td>Gr</td>\n",
       "    </tr>\n",
       "    <tr>\n",
       "      <th>14</th>\n",
       "      <td>13.560414</td>\n",
       "      <td>MFault_dist</td>\n",
       "    </tr>\n",
       "    <tr>\n",
       "      <th>9</th>\n",
       "      <td>10.732923</td>\n",
       "      <td>Gr_4_5</td>\n",
       "    </tr>\n",
       "    <tr>\n",
       "      <th>11</th>\n",
       "      <td>10.121163</td>\n",
       "      <td>Intr_dist</td>\n",
       "    </tr>\n",
       "    <tr>\n",
       "      <th>5</th>\n",
       "      <td>8.833289</td>\n",
       "      <td>f4_AuAs</td>\n",
       "    </tr>\n",
       "  </tbody>\n",
       "</table>\n",
       "</div>"
      ],
      "text/plain": [
       "    importances        names\n",
       "8     17.498131           Gr\n",
       "14    13.560414  MFault_dist\n",
       "9     10.732923       Gr_4_5\n",
       "11    10.121163    Intr_dist\n",
       "5      8.833289      f4_AuAs"
      ]
     },
     "execution_count": 66,
     "metadata": {},
     "output_type": "execute_result"
    }
   ],
   "source": [
    "res_importances.sort_values(['importances'], ascending = False).head(5)"
   ]
  },
  {
   "cell_type": "code",
   "execution_count": 147,
   "id": "d9e11c8f",
   "metadata": {},
   "outputs": [],
   "source": [
    "#model.save_model('catboost_for_atk_outline_no_coords')"
   ]
  }
 ],
 "metadata": {
  "kernelspec": {
   "display_name": "Python 3 (ipykernel)",
   "language": "python",
   "name": "python3"
  },
  "language_info": {
   "codemirror_mode": {
    "name": "ipython",
    "version": 3
   },
   "file_extension": ".py",
   "mimetype": "text/x-python",
   "name": "python",
   "nbconvert_exporter": "python",
   "pygments_lexer": "ipython3",
   "version": "3.10.9"
  }
 },
 "nbformat": 4,
 "nbformat_minor": 5
}
